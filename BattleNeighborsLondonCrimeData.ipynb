{
 "cells": [
  {
   "cell_type": "markdown",
   "metadata": {
    "collapsed": true
   },
   "source": [
    "# IBM Applied Data Science Capstone Project - The Battle of Neighborhoods"
   ]
  },
  {
   "cell_type": "markdown",
   "metadata": {},
   "source": [
    "## Table of contents\n",
    "* [Introduction: Business Problem](#introduction)\n",
    "* [Data](#data)\n",
    "* [Methodology](#methodology)\n",
    "* [Analysis](#analysis)\n",
    "* [Results and Discussion](#results)\n",
    "* [Conclusion](#conclusion)"
   ]
  },
  {
   "cell_type": "markdown",
   "metadata": {},
   "source": [
    "## Introduction: Business Problem <a name=\"introduction\"></a>"
   ]
  },
  {
   "cell_type": "markdown",
   "metadata": {},
   "source": [
    "I am moving to London, United Kingdom, at the start of the next year and I need to find out what are the most popular restaurants and gyms to check them out.\n",
    "\n",
    "London has a lot to offer in terms of available venues that seem to meet my expectations but I want to narrow down my options to make the optimal choice given the folowing factors: popularity, expensiveness and safety of the area. I would also prefer locations as close to city center as possible, assuming that first three conditions are met.\n",
    "\n",
    "Generating a few most promissing neighborhoods based on this criteria will help me to determine the advantages of each area, and to narrow down my list to a top 10 that can be chosen."
   ]
  },
  {
   "cell_type": "markdown",
   "metadata": {},
   "source": [
    "## Data <a name=\"data\"></a>"
   ]
  },
  {
   "cell_type": "markdown",
   "metadata": {},
   "source": [
    "The main factors that will influence my decision are:\n",
    "* **Popularity**\n",
    "* **Expensiveness**\n",
    "* **Borough Safety**\n",
    "\n",
    "I decided to use regularly spaced grid of locations, centered around city center, to define the neighborhoods.\n",
    "\n",
    "Following data sources will be needed to extract/generate the required information:\n",
    "* centers of candidate areas will be generated algorithmically and approximate addresses of centers of those areas will be obtained using **Google Maps API reverse geocoding**\n",
    "* number of restaurants and gyms in every neighborhood will be obtained using **Foursquare API**\n",
    "* coordinate of London center will be obtained using **Google Maps API geocoding**\n",
    "* London Data Crime will be obtained using **Kaggle**. The data extracted counts the number of crimes at two different geographic levels of London (LSOA and borough) by year, according to crime type. Includes data from 2008 to present. (https://www.kaggle.com/LondonDataStore/london-crime)"
   ]
  },
  {
   "cell_type": "code",
   "execution_count": null,
   "metadata": {},
   "outputs": [],
   "source": [
    "import numpy as np\n",
    "import pandas as pd\n",
    "\n",
    "import numpy as np\n",
    "import pandas as pd\n",
    "from bs4 import BeautifulSoup as bs\n",
    "\n",
    "import matplotlib.cm as cm\n",
    "import matplotlib.colors as colors\n",
    "\n",
    "from sklearn.cluster import KMeans\n",
    "\n",
    "print(\"Libraries imported.\")"
   ]
  },
  {
   "cell_type": "code",
   "execution_count": null,
   "metadata": {},
   "outputs": [],
   "source": [
    "import requests\n",
    "print(\"Requests imported.\")\n",
    "\n",
    "url = requests.get(\"https://en.wikipedia.org/wiki/List_of_postal_codes_of_Canada:_M\").text\n",
    "\n",
    "soup = bs(url, \"lxml\")\n",
    "\n",
    "print(soup.prettify())"
   ]
  },
  {
   "cell_type": "code",
   "execution_count": null,
   "metadata": {},
   "outputs": [],
   "source": [
    "#!conda install -c conda-forge bq-helper --yes\n",
    "import bq_helper\n",
    "from bq_helper import BigQueryHelper   #to scrape the dataset from Kaggle\n",
    "\n",
    "print(\"BigQueryHelper imported.\")\n",
    "\n",
    "#https://www.kaggle.com/paultimothymooney/how-to-query-the-london-crime-data\n",
    "london = bq_helper.BigQueryHelper(active_project=\"bigquery-public-data\",\n",
    "                                   dataset_name=\"london_crime\")\n",
    "bq_assistant = BigQueryHelper(\"bigquery-public-data\", \"london_crime\")\n",
    "bq_assistant.list_tables()"
   ]
  },
  {
   "cell_type": "code",
   "execution_count": null,
   "metadata": {},
   "outputs": [],
   "source": [
    "#!conda install -c conda-forge folium=0.5.0 --yes\n",
    "import folium\n",
    "\n",
    "import json #handle JSON files\n",
    "import requests # handle requests\n",
    "from pandas.io.json import json_normalize #transform json files into a pandas dataframe\n",
    "\n",
    "print(\"Libraries imported.\")"
   ]
  }
 ],
 "metadata": {
  "kernelspec": {
   "display_name": "Python 3.6",
   "language": "python",
   "name": "python3"
  },
  "language_info": {
   "codemirror_mode": {
    "name": "ipython",
    "version": 3
   },
   "file_extension": ".py",
   "mimetype": "text/x-python",
   "name": "python",
   "nbconvert_exporter": "python",
   "pygments_lexer": "ipython3",
   "version": "3.6.8"
  }
 },
 "nbformat": 4,
 "nbformat_minor": 1
}
